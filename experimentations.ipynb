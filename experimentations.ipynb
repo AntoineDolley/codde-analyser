{
 "cells": [
  {
   "cell_type": "markdown",
   "metadata": {},
   "source": [
    "# Test fonction is_allowed_node"
   ]
  },
  {
   "cell_type": "code",
   "execution_count": 1,
   "metadata": {},
   "outputs": [
    {
     "name": "stdout",
     "output_type": "stream",
     "text": [
      "Diagnostics:\n",
      "/usr/include/wchar.h:35:10: fatal error: 'stddef.h' file not found\n",
      "AST sauvegardé dans ast_output.txt\n"
     ]
    }
   ],
   "source": [
    "from clang import cindex\n",
    "\n",
    "import os\n",
    "\n",
    "ALLOWED_PATHS = ['test_code/Includes/test_code.h', 'test_code/src/test_code.cpp']\n",
    "\n",
    "import os\n",
    "\n",
    "def is_allowed_node(node, ALLOWED_PATHS):\n",
    "    \"\"\"\n",
    "    Retourne True si le nœud appartient à l'un des fichiers autorisés.\n",
    "    Si le nœud n'a pas de localisation (par exemple la racine), on le considère autorisé.\n",
    "    Pour plus de flexibilité, si le basename (nom du fichier) du nœud correspond à celui\n",
    "    d'un chemin autorisé, on accepte également.\n",
    "    \"\"\"\n",
    "    if node.location and node.location.file:\n",
    "        # Normalisation du chemin absolu du fichier du nœud\n",
    "        file_path = os.path.normpath(os.path.abspath(node.location.file.name))\n",
    "        for allowed in ALLOWED_PATHS:\n",
    "            # Normalisation du chemin absolu autorisé\n",
    "            allowed_abs = os.path.normpath(os.path.abspath(allowed))\n",
    "            # Option stricte : le chemin complet correspond ou est dans le même répertoire\n",
    "            if file_path == allowed_abs or file_path.startswith(os.path.dirname(allowed_abs)):\n",
    "                return True\n",
    "            # Option plus flexible : le nom du fichier correspond (pour gérer les cas src/../Include)\n",
    "            if os.path.basename(file_path) == os.path.basename(allowed_abs):\n",
    "                return True\n",
    "        return False\n",
    "    return True\n",
    "\n",
    "def print_ast(node, indent=0, output_file=None):\n",
    "    indent_str = \" \" * indent\n",
    "\n",
    "    # Récupération de la localisation\n",
    "    loc = node.location\n",
    "    file_name = loc.file.name if loc and loc.file else \"None\"\n",
    "    line = loc.line if loc and loc.line != 0 else \"?\"\n",
    "    column = loc.column if loc and loc.column != 0 else \"?\"\n",
    "\n",
    "    # Récupération du type (si disponible)\n",
    "    try:\n",
    "        type_spelling = node.type.spelling\n",
    "    except Exception:\n",
    "        type_spelling = \"None\"\n",
    "\n",
    "    # Autres informations\n",
    "    displayname = node.displayname if node.displayname else \"\"\n",
    "    is_def = node.is_definition()\n",
    "    access = node.access_specifier\n",
    "    raw_comment = node.raw_comment if node.raw_comment else \"\"\n",
    "\n",
    "    # Récupération de l'étendue (extent)\n",
    "    extent = node.extent\n",
    "    if extent:\n",
    "        start = extent.start\n",
    "        end = extent.end\n",
    "        extent_str = f\"{start.file.name if start.file else 'None'}({start.line},{start.column}) -> {end.file.name if end.file else 'None'}({end.line},{end.column})\"\n",
    "    else:\n",
    "        extent_str = \"None\"\n",
    "\n",
    "    # Création d'une ligne résumant toutes les informations du nœud\n",
    "    line_out = (\n",
    "        f\"{indent_str}{node.kind} |Is allowed {is_allowed_node(node,ALLOWED_PATHS)}| Spelling: '{node.spelling}' | \"\n",
    "        f\"Displayname: '{displayname}' | Location: {file_name} (line: {line}, col: {column}) | \"\n",
    "        f\"IsDefinition: {is_def} | Type: {type_spelling} | Access: {access} | \"\n",
    "        f\"Extent: {extent_str} | RawComment: '{raw_comment}'\"\n",
    "    )\n",
    "\n",
    "    # Écriture dans le fichier ou affichage sur la console\n",
    "    if output_file:\n",
    "        output_file.write(line_out + \"\\n\")\n",
    "    else:\n",
    "        print(line_out)\n",
    "\n",
    "    # Parcours récursif pour chaque enfant\n",
    "    for child in node.get_children():\n",
    "        print_ast(child, indent + 2, output_file)\n",
    "\n",
    "def main():\n",
    "    # Création de l'index\n",
    "    index = cindex.Index.create()\n",
    "\n",
    "    # Spécification du fichier source et des options de compilation\n",
    "    source_file = \"test_code/src/test_code.cpp\"\n",
    "    args = [\"-I./test_code/Include\", \"-std=c++11\"]\n",
    "\n",
    "    # Analyse du fichier pour obtenir le TranslationUnit (AST)\n",
    "    tu = index.parse(source_file, args=args)\n",
    "\n",
    "    # Affichage des diagnostics le cas échéant\n",
    "    if tu.diagnostics:\n",
    "        print(\"Diagnostics:\")\n",
    "        for diag in tu.diagnostics:\n",
    "            print(diag)\n",
    "\n",
    "    # Ouverture du fichier de sortie en écriture\n",
    "    with open(\"exp_results/ast_output.txt\", \"w\", encoding=\"utf-8\") as f:\n",
    "        f.write(\"AST for: \" + source_file + \"\\n\")\n",
    "        print_ast(tu.cursor, output_file=f)\n",
    "\n",
    "    print(\"AST sauvegardé dans ast_output.txt\")\n",
    "\n",
    "if __name__ == '__main__':\n",
    "    main()\n"
   ]
  },
  {
   "cell_type": "markdown",
   "metadata": {},
   "source": [
    "# Normalisation des chemins "
   ]
  },
  {
   "cell_type": "code",
   "execution_count": 2,
   "metadata": {},
   "outputs": [
    {
     "name": "stdout",
     "output_type": "stream",
     "text": [
      "test_code/Include/test_code.h\n"
     ]
    }
   ],
   "source": [
    "import os\n",
    "\n",
    "path = \"test_code/src/../Include/test_code.h\"\n",
    "normalized_path = os.path.normpath(path)\n",
    "print(normalized_path)  # Affiche: test_code/Include/test_code.h"
   ]
  }
 ],
 "metadata": {
  "kernelspec": {
   "display_name": "env",
   "language": "python",
   "name": "python3"
  },
  "language_info": {
   "codemirror_mode": {
    "name": "ipython",
    "version": 3
   },
   "file_extension": ".py",
   "mimetype": "text/x-python",
   "name": "python",
   "nbconvert_exporter": "python",
   "pygments_lexer": "ipython3",
   "version": "3.12.3"
  }
 },
 "nbformat": 4,
 "nbformat_minor": 2
}
